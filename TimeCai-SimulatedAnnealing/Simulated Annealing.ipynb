{
 "cells": [
  {
   "cell_type": "code",
   "execution_count": 1,
   "metadata": {},
   "outputs": [],
   "source": [
    "from heading import *\n",
    "from hill_climbing import *\n",
    "from simulated_annealing import *\n",
    "from genetic_algorithm import *"
   ]
  },
  {
   "cell_type": "code",
   "execution_count": 2,
   "metadata": {},
   "outputs": [],
   "source": [
    "locations = dict(Guangzhou=(113, 23), Aomen=(113, 22), Xianggang=(114, 22),\n",
    "    Nanning=(108, 22), Changsha=(112, 28), Nanchang=(115, 28),\n",
    "    Fuzhou=(119, 26), Wuhan=(114, 28), Hefei=(117, 31),\n",
    "    Nanjing=(118, 32), Shanghai=(121, 31), Hangzhou=(120, 30),\n",
    "    Guiyang=(106, 26))"
   ]
  },
  {
   "cell_type": "code",
   "execution_count": 3,
   "metadata": {},
   "outputs": [],
   "source": [
    "all_cities, distances = define_map(locations)"
   ]
  },
  {
   "cell_type": "code",
   "execution_count": 4,
   "metadata": {},
   "outputs": [],
   "source": [
    "start_point = 'Guiyang'"
   ]
  },
  {
   "cell_type": "code",
   "execution_count": 5,
   "metadata": {},
   "outputs": [],
   "source": [
    "def neighbour_for_TSP(state):\n",
    "    neighbour_state = state[:]\n",
    "    left = random.randint(1, len(neighbour_state) - 1)\n",
    "    right = random.randint(1, len(neighbour_state) - 1)\n",
    "    if left > right:\n",
    "        left, right = right, left\n",
    "    neighbour_state[left: right + 1] = reversed(neighbour_state[left: right + 1])\n",
    "    return neighbour_state"
   ]
  },
  {
   "cell_type": "code",
   "execution_count": 6,
   "metadata": {},
   "outputs": [],
   "source": [
    "def define_init(city_list, start_point):\n",
    "    init_citylist = city_list[:]\n",
    "    init_citylist.remove(start_point)\n",
    "    init_citylist.insert(0, start_point)\n",
    "    return init_citylist"
   ]
  },
  {
   "cell_type": "code",
   "execution_count": 7,
   "metadata": {},
   "outputs": [],
   "source": [
    "init = define_init(all_cities, start_point)\n",
    "n_times = 500\n",
    "max_iterations = 1000"
   ]
  },
  {
   "cell_type": "code",
   "execution_count": 8,
   "metadata": {},
   "outputs": [],
   "source": [
    "def exp_schedule(k=20, lam=0.005, limit=100000):\n",
    "    return lambda t: (k * np.exp(-lam * t) if t < limit else 0)"
   ]
  },
  {
   "cell_type": "code",
   "execution_count": 9,
   "metadata": {},
   "outputs": [],
   "source": [
    "def energy(state):\n",
    "    cost = 0\n",
    "    for i in range(len(state) - 1):\n",
    "        cost += distances[state[i]][state[i + 1]]\n",
    "    cost += distances[state[0]][state[-1]]\n",
    "    return cost\n",
    "\n"
   ]
  },
  {
   "cell_type": "code",
   "execution_count": 10,
   "metadata": {},
   "outputs": [],
   "source": [
    "solution, cost = simulated_annealing(init, energy, neighbour_for_TSP, exp_schedule, start_point)"
   ]
  },
  {
   "cell_type": "code",
   "execution_count": 11,
   "metadata": {},
   "outputs": [
    {
     "name": "stdout",
     "output_type": "stream",
     "text": [
      "['Guiyang', 'Nanning', 'Guangzhou', 'Aomen', 'Xianggang', 'Fuzhou', 'Hangzhou', 'Shanghai', 'Nanjing', 'Hefei', 'Nanchang', 'Wuhan', 'Changsha', 'Guiyang']\n"
     ]
    }
   ],
   "source": [
    "print(solution)"
   ]
  },
  {
   "cell_type": "code",
   "execution_count": 12,
   "metadata": {},
   "outputs": [],
   "source": [
    "def energy_time_train(state):\n",
    "    cost = 0\n",
    "    for i in range(len(state) - 1):\n",
    "        cost += 2.5 + 0.6*distances[state[i]][state[i + 1]]\n",
    "    cost += distances[state[0]][state[-1]]\n",
    "    return cost"
   ]
  },
  {
   "cell_type": "code",
   "execution_count": 13,
   "metadata": {},
   "outputs": [
    {
     "name": "stdout",
     "output_type": "stream",
     "text": [
      "['Guiyang', 'Changsha', 'Wuhan', 'Nanchang', 'Hefei', 'Nanjing', 'Shanghai', 'Hangzhou', 'Fuzhou', 'Xianggang', 'Aomen', 'Guangzhou', 'Nanning', 'Guiyang'] 57.11091802741492\n"
     ]
    }
   ],
   "source": [
    "solution, cost = simulated_annealing(init, energy_time_train, neighbour_for_TSP, exp_schedule, start_point)\n",
    "print(solution, cost)"
   ]
  },
  {
   "cell_type": "code",
   "execution_count": 14,
   "metadata": {},
   "outputs": [],
   "source": [
    "def energy_time_airplane(state):\n",
    "    cost = 0\n",
    "    for i in range(len(state) - 1):\n",
    "        cost += 3 + 0.2*distances[state[i]][state[i + 1]]\n",
    "    cost += distances[state[0]][state[-1]]\n",
    "    return cost"
   ]
  },
  {
   "cell_type": "code",
   "execution_count": 15,
   "metadata": {},
   "outputs": [
    {
     "name": "stdout",
     "output_type": "stream",
     "text": [
      "['Guiyang', 'Changsha', 'Wuhan', 'Nanchang', 'Hefei', 'Nanjing', 'Shanghai', 'Hangzhou', 'Fuzhou', 'Xianggang', 'Aomen', 'Guangzhou', 'Nanning', 'Guiyang'] 47.20363934247164\n"
     ]
    }
   ],
   "source": [
    "solution, cost = simulated_annealing(init, energy_time_airplane, neighbour_for_TSP, exp_schedule, start_point)\n",
    "print(solution, cost)"
   ]
  },
  {
   "cell_type": "code",
   "execution_count": 16,
   "metadata": {},
   "outputs": [],
   "source": [
    "hotel_node = [['Guangzhou', (600)], ['Aomen',(1000)], ['Xianggang',(1000)],\n",
    "        ['Nanning',(400)], ['Changsha',(500)], ['Nanchang',(500)],\n",
    "        ['Fuzhou',(300)], ['Wuhan',(350)], ['Hefei',(300)],\n",
    "        ['Nanjing',(400)], ['Shanghai',(1000)], ['Hangzhou',(500)],\n",
    "        ['Guiyang',(450)]]"
   ]
  },
  {
   "cell_type": "code",
   "execution_count": 17,
   "metadata": {},
   "outputs": [],
   "source": [
    "d = {}\n",
    "for i in hotel_node:\n",
    "    d[i[0]] = i[1]"
   ]
  },
  {
   "cell_type": "code",
   "execution_count": 18,
   "metadata": {},
   "outputs": [
    {
     "name": "stdout",
     "output_type": "stream",
     "text": [
      "{'Guangzhou': 600, 'Aomen': 1000, 'Xianggang': 1000, 'Nanning': 400, 'Changsha': 500, 'Nanchang': 500, 'Fuzhou': 300, 'Wuhan': 350, 'Hefei': 300, 'Nanjing': 400, 'Shanghai': 1000, 'Hangzhou': 500, 'Guiyang': 450}\n"
     ]
    }
   ],
   "source": [
    "print(d)"
   ]
  },
  {
   "cell_type": "code",
   "execution_count": 19,
   "metadata": {},
   "outputs": [],
   "source": [
    "def energy_money_airplane_with_hotel(state):\n",
    "    cost = 0\n",
    "    for i in range(len(state) - 1):\n",
    "        cost += (3 + 0.2*distances[state[i]][state[i + 1]])*300 + d[state[i + 1]]\n",
    "    cost += distances[state[0]][state[-1]]\n",
    "    return cost"
   ]
  },
  {
   "cell_type": "code",
   "execution_count": 20,
   "metadata": {},
   "outputs": [
    {
     "name": "stdout",
     "output_type": "stream",
     "text": [
      "['Guiyang', 'Nanning', 'Aomen', 'Xianggang', 'Guangzhou', 'Changsha', 'Wuhan', 'Nanchang', 'Hefei', 'Nanjing', 'Shanghai', 'Hangzhou', 'Fuzhou', 'Guiyang'] 21802.2838430177\n"
     ]
    }
   ],
   "source": [
    "solution, cost = simulated_annealing(init, energy_money_airplane_with_hotel, neighbour_for_TSP, exp_schedule, start_point)\n",
    "print(solution, cost)"
   ]
  },
  {
   "cell_type": "code",
   "execution_count": null,
   "metadata": {},
   "outputs": [],
   "source": []
  }
 ],
 "metadata": {
  "kernelspec": {
   "display_name": "Python 3",
   "language": "python",
   "name": "python3"
  },
  "language_info": {
   "codemirror_mode": {
    "name": "ipython",
    "version": 3
   },
   "file_extension": ".py",
   "mimetype": "text/x-python",
   "name": "python",
   "nbconvert_exporter": "python",
   "pygments_lexer": "ipython3",
   "version": "3.8.3"
  }
 },
 "nbformat": 4,
 "nbformat_minor": 4
}
